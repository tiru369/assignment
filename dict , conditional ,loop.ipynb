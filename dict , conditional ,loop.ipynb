{
 "cells": [
  {
   "cell_type": "code",
   "execution_count": 1,
   "id": "b3a60851-b5c6-4607-9e13-ef8f6231a585",
   "metadata": {},
   "outputs": [],
   "source": [
    "d={}"
   ]
  },
  {
   "cell_type": "code",
   "execution_count": 2,
   "id": "b0b079d6-cf1f-41aa-9ac2-efb95398b56b",
   "metadata": {},
   "outputs": [
    {
     "data": {
      "text/plain": [
       "dict"
      ]
     },
     "execution_count": 2,
     "metadata": {},
     "output_type": "execute_result"
    }
   ],
   "source": [
    "type(d)"
   ]
  },
  {
   "cell_type": "code",
   "execution_count": 3,
   "id": "2502ad9b-a88b-4cdd-a560-371f0a81ff50",
   "metadata": {},
   "outputs": [],
   "source": [
    "d3={234 : \"sudh\" ,'_wer' : 'kumar',True : 24234}"
   ]
  },
  {
   "cell_type": "code",
   "execution_count": 4,
   "id": "c5f796f3-e9a1-4ae5-8849-a20e813b3fdf",
   "metadata": {},
   "outputs": [
    {
     "data": {
      "text/plain": [
       "{234: 'sudh', '_wer': 'kumar', True: 24234}"
      ]
     },
     "execution_count": 4,
     "metadata": {},
     "output_type": "execute_result"
    }
   ],
   "source": [
    "d3"
   ]
  },
  {
   "cell_type": "code",
   "execution_count": 4,
   "id": "c5e49a58-618c-4912-b609-30afe96a0af9",
   "metadata": {},
   "outputs": [
    {
     "data": {
      "text/plain": [
       "'sudh'"
      ]
     },
     "execution_count": 4,
     "metadata": {},
     "output_type": "execute_result"
    }
   ],
   "source": [
    "d3[234]"
   ]
  },
  {
   "cell_type": "code",
   "execution_count": 6,
   "id": "7aae0990-b151-4405-9829-e13620598835",
   "metadata": {},
   "outputs": [
    {
     "data": {
      "text/plain": [
       "24234"
      ]
     },
     "execution_count": 6,
     "metadata": {},
     "output_type": "execute_result"
    }
   ],
   "source": [
    "d3[True]"
   ]
  },
  {
   "cell_type": "code",
   "execution_count": 5,
   "id": "aeae39c6-a936-4f5c-8ec5-2b9c8fd11e46",
   "metadata": {},
   "outputs": [
    {
     "data": {
      "text/plain": [
       "24234"
      ]
     },
     "execution_count": 5,
     "metadata": {},
     "output_type": "execute_result"
    }
   ],
   "source": [
    "d3[1]"
   ]
  },
  {
   "cell_type": "code",
   "execution_count": 1,
   "id": "e1bc9ba7-83ab-4c09-a709-a98fac40b185",
   "metadata": {},
   "outputs": [],
   "source": [
    "d4={'name' : \"sudh\" , 'mail-id' : \"ss@gmail.com\" ,'name' : \"sudhanshu\"}"
   ]
  },
  {
   "cell_type": "code",
   "execution_count": 2,
   "id": "9259f789-7de2-4bbf-9124-4e6fff129cfb",
   "metadata": {},
   "outputs": [
    {
     "data": {
      "text/plain": [
       "'sudhanshu'"
      ]
     },
     "execution_count": 2,
     "metadata": {},
     "output_type": "execute_result"
    }
   ],
   "source": [
    "d4['name'] #  it takes last updated value "
   ]
  },
  {
   "cell_type": "code",
   "execution_count": 7,
   "id": "7d411014-6127-453e-9f21-7d2f9cc7b08f",
   "metadata": {},
   "outputs": [],
   "source": [
    "d4['mentor'] =[\"sudhanshu\",'krish','anurag','hayder']"
   ]
  },
  {
   "cell_type": "code",
   "execution_count": 8,
   "id": "95eab9e1-de6e-40c2-9cee-5083858b0a0a",
   "metadata": {},
   "outputs": [
    {
     "data": {
      "text/plain": [
       "{'name': 'sudhanshu',\n",
       " 'mail-id': 'ss@gmail.com',\n",
       " 'mentor': ['sudhanshu', 'krish', 'anurag', 'hayder']}"
      ]
     },
     "execution_count": 8,
     "metadata": {},
     "output_type": "execute_result"
    }
   ],
   "source": [
    "d4"
   ]
  },
  {
   "cell_type": "code",
   "execution_count": null,
   "id": "8707187d-3190-4f19-a20d-7fda18dfe750",
   "metadata": {},
   "outputs": [],
   "source": [
    "d4['mentor'][]"
   ]
  },
  {
   "cell_type": "code",
   "execution_count": 10,
   "id": "c14f8d44-a872-4107-b917-a4ac3fa158e3",
   "metadata": {},
   "outputs": [
    {
     "data": {
      "text/plain": [
       "dict_keys(['name', 'mail-id', 'mentor'])"
      ]
     },
     "execution_count": 10,
     "metadata": {},
     "output_type": "execute_result"
    }
   ],
   "source": [
    "d4.keys()"
   ]
  },
  {
   "cell_type": "code",
   "execution_count": 11,
   "id": "93b5dc67-7b54-4d54-8ee5-73be470800a5",
   "metadata": {},
   "outputs": [
    {
     "data": {
      "text/plain": [
       "dict_items([('name', 'sudhanshu'), ('mail-id', 'ss@gmail.com'), ('mentor', ['sudhanshu', 'krish', 'anurag', 'hayder'])])"
      ]
     },
     "execution_count": 11,
     "metadata": {},
     "output_type": "execute_result"
    }
   ],
   "source": [
    "d4.items()"
   ]
  },
  {
   "cell_type": "code",
   "execution_count": 13,
   "id": "c2d3fb4b-c418-4eb6-8d58-1aa7e59826b0",
   "metadata": {},
   "outputs": [
    {
     "data": {
      "text/plain": [
       "['sudhanshu', 'krish', 'anurag', 'hayder']"
      ]
     },
     "execution_count": 13,
     "metadata": {},
     "output_type": "execute_result"
    }
   ],
   "source": [
    "d4.get('mentor')"
   ]
  },
  {
   "cell_type": "code",
   "execution_count": 14,
   "id": "92e5f2da-1a83-4695-950e-347e8753104d",
   "metadata": {},
   "outputs": [
    {
     "data": {
      "text/plain": [
       "'sudhanshu'"
      ]
     },
     "execution_count": 14,
     "metadata": {},
     "output_type": "execute_result"
    }
   ],
   "source": [
    "d4['name']"
   ]
  },
  {
   "cell_type": "code",
   "execution_count": null,
   "id": "f6b6266b-1cce-4906-b9d5-b11988952e24",
   "metadata": {},
   "outputs": [],
   "source": [
    "d4.update"
   ]
  },
  {
   "cell_type": "code",
   "execution_count": 18,
   "id": "73dfd55b-521a-4bf8-bce9-8b2ebbdf18a4",
   "metadata": {},
   "outputs": [],
   "source": [
    "l=[1,2,2,3,3,3,4,5,6,7,8]"
   ]
  },
  {
   "cell_type": "code",
   "execution_count": 19,
   "id": "705830a3-ea30-423a-aea1-2660d19aca5b",
   "metadata": {},
   "outputs": [],
   "source": [
    "l.append(9)"
   ]
  },
  {
   "cell_type": "code",
   "execution_count": 20,
   "id": "5503df2d-5634-4223-b8fd-1b2ce0bdb316",
   "metadata": {},
   "outputs": [
    {
     "data": {
      "text/plain": [
       "[1, 2, 2, 3, 3, 3, 4, 5, 6, 7, 8, 9]"
      ]
     },
     "execution_count": 20,
     "metadata": {},
     "output_type": "execute_result"
    }
   ],
   "source": [
    "l"
   ]
  },
  {
   "cell_type": "code",
   "execution_count": 21,
   "id": "411a614e-54b5-4ef5-b9f0-cdd3d6b886e6",
   "metadata": {},
   "outputs": [],
   "source": [
    "l.append(l[0]+1)"
   ]
  },
  {
   "cell_type": "code",
   "execution_count": 22,
   "id": "71607edb-c74a-4f44-8e16-b826c8a586c0",
   "metadata": {},
   "outputs": [
    {
     "data": {
      "text/plain": [
       "[1, 2, 2, 3, 3, 3, 4, 5, 6, 7, 8, 9, 2]"
      ]
     },
     "execution_count": 22,
     "metadata": {},
     "output_type": "execute_result"
    }
   ],
   "source": [
    "l"
   ]
  },
  {
   "cell_type": "code",
   "execution_count": 23,
   "id": "a658a89d-e45e-4097-a8f6-9ba24d0ae1d5",
   "metadata": {},
   "outputs": [],
   "source": [
    "l=['sudh','kumar','pwskills','course']"
   ]
  },
  {
   "cell_type": "code",
   "execution_count": 26,
   "id": "5c6b1094-78f2-446e-8754-e787296f8fb1",
   "metadata": {},
   "outputs": [
    {
     "data": {
      "text/plain": [
       "['sudh', 'kumar', 'pwskills', 'course']"
      ]
     },
     "execution_count": 26,
     "metadata": {},
     "output_type": "execute_result"
    }
   ],
   "source": [
    "l"
   ]
  },
  {
   "cell_type": "code",
   "execution_count": 28,
   "id": "ea2489c8-3cc4-4939-95f7-07bad5b068dc",
   "metadata": {},
   "outputs": [
    {
     "data": {
      "text/plain": [
       "'SUDH'"
      ]
     },
     "execution_count": 28,
     "metadata": {},
     "output_type": "execute_result"
    }
   ],
   "source": [
    "l[0].upper()"
   ]
  },
  {
   "cell_type": "code",
   "execution_count": 29,
   "id": "1ff5bf9e-ee5b-474c-88ec-adc223e5b832",
   "metadata": {},
   "outputs": [
    {
     "data": {
      "text/plain": [
       "['sudh', 'kumar', 'pwskills', 'course']"
      ]
     },
     "execution_count": 29,
     "metadata": {},
     "output_type": "execute_result"
    }
   ],
   "source": [
    "l"
   ]
  },
  {
   "cell_type": "code",
   "execution_count": 31,
   "id": "5124b2fb-b087-476e-bc5d-b86ee365f412",
   "metadata": {},
   "outputs": [],
   "source": [
    "l=[1,2,3,4,4,\"sudh\",'kumar',324,34.456,'abc']"
   ]
  },
  {
   "cell_type": "code",
   "execution_count": 32,
   "id": "d5923335-576b-455f-85c6-88f8dbacf85d",
   "metadata": {},
   "outputs": [],
   "source": [
    "l1_num =[]\n",
    "l2_str=[]\n",
    "for i in l:\n",
    "    if type(i) == int or type(i) == float:\n",
    "        l1_num.append(i)\n"
   ]
  },
  {
   "cell_type": "code",
   "execution_count": 34,
   "id": "14e7a8a5-0916-4d67-b4ba-12798eeb8b42",
   "metadata": {},
   "outputs": [
    {
     "data": {
      "text/plain": [
       "[1, 2, 3, 4, 4, 324, 34.456]"
      ]
     },
     "execution_count": 34,
     "metadata": {},
     "output_type": "execute_result"
    }
   ],
   "source": [
    "l1_num"
   ]
  },
  {
   "cell_type": "code",
   "execution_count": null,
   "id": "eec57a78-4237-4c10-9e98-ea48189bae04",
   "metadata": {},
   "outputs": [],
   "source": []
  },
  {
   "cell_type": "code",
   "execution_count": null,
   "id": "7ad1e1ff-e4d6-44a1-9313-ea9830360782",
   "metadata": {},
   "outputs": [],
   "source": []
  },
  {
   "cell_type": "code",
   "execution_count": null,
   "id": "e6cefe72-0536-4840-bbbb-21917aa95f92",
   "metadata": {},
   "outputs": [],
   "source": []
  },
  {
   "cell_type": "code",
   "execution_count": null,
   "id": "96d6a524-c59a-4d6d-92aa-23328c0846b6",
   "metadata": {},
   "outputs": [],
   "source": []
  },
  {
   "cell_type": "code",
   "execution_count": null,
   "id": "ca3297a7-72a6-4480-8403-02faaf245f07",
   "metadata": {},
   "outputs": [],
   "source": []
  },
  {
   "cell_type": "code",
   "execution_count": null,
   "id": "2715af7d-1aec-4983-a270-38879cb3ba36",
   "metadata": {},
   "outputs": [],
   "source": []
  },
  {
   "cell_type": "code",
   "execution_count": null,
   "id": "25e2ea8a-5a50-4e59-8d3e-429b241f42fa",
   "metadata": {},
   "outputs": [],
   "source": []
  },
  {
   "cell_type": "code",
   "execution_count": null,
   "id": "b054f346-d561-4bd8-90fa-dde158eb410b",
   "metadata": {},
   "outputs": [],
   "source": []
  },
  {
   "cell_type": "code",
   "execution_count": null,
   "id": "15ae2245-3f83-4298-890e-87fcf43c2c4c",
   "metadata": {},
   "outputs": [],
   "source": []
  },
  {
   "cell_type": "code",
   "execution_count": null,
   "id": "e3f4bfc0-df7a-4eec-b8cb-f89d0775a45e",
   "metadata": {},
   "outputs": [],
   "source": []
  },
  {
   "cell_type": "code",
   "execution_count": null,
   "id": "c706c89c-9b62-440d-a9ef-8188048c464a",
   "metadata": {},
   "outputs": [],
   "source": []
  },
  {
   "cell_type": "code",
   "execution_count": null,
   "id": "9d3b235d-3434-4921-81e3-ffef71cfc3f3",
   "metadata": {},
   "outputs": [],
   "source": []
  },
  {
   "cell_type": "code",
   "execution_count": null,
   "id": "f558ae4a-3c42-4801-a28c-8f9aa6f61477",
   "metadata": {},
   "outputs": [],
   "source": []
  },
  {
   "cell_type": "code",
   "execution_count": null,
   "id": "b353d565-558a-4380-b592-85ccd4bf806c",
   "metadata": {},
   "outputs": [],
   "source": []
  },
  {
   "cell_type": "code",
   "execution_count": null,
   "id": "3573f0b2-e5c8-4cda-92a4-13a076e324f6",
   "metadata": {},
   "outputs": [],
   "source": []
  },
  {
   "cell_type": "code",
   "execution_count": null,
   "id": "d2524d97-3628-4e10-b1ce-a54c40f5c25d",
   "metadata": {},
   "outputs": [],
   "source": []
  },
  {
   "cell_type": "code",
   "execution_count": null,
   "id": "b1d7445f-2308-445a-92ec-db96df8d112a",
   "metadata": {},
   "outputs": [],
   "source": []
  },
  {
   "cell_type": "code",
   "execution_count": null,
   "id": "cb30d65b-f1ea-40c1-a347-5cf431929dbd",
   "metadata": {},
   "outputs": [],
   "source": []
  },
  {
   "cell_type": "code",
   "execution_count": null,
   "id": "201c12e0-e771-4bd4-aa9d-8984aa62cb51",
   "metadata": {},
   "outputs": [],
   "source": []
  }
 ],
 "metadata": {
  "kernelspec": {
   "display_name": "Python 3 (ipykernel)",
   "language": "python",
   "name": "python3"
  },
  "language_info": {
   "codemirror_mode": {
    "name": "ipython",
    "version": 3
   },
   "file_extension": ".py",
   "mimetype": "text/x-python",
   "name": "python",
   "nbconvert_exporter": "python",
   "pygments_lexer": "ipython3",
   "version": "3.10.8"
  }
 },
 "nbformat": 4,
 "nbformat_minor": 5
}
